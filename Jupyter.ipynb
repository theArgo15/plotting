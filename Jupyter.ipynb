{
 "cells": [
  {
   "cell_type": "markdown",
   "metadata": {},
   "source": []
  },
  {
   "cell_type": "code",
   "execution_count": 2,
   "metadata": {},
   "outputs": [
    {
     "data": {
      "text/html": [
       "<div>\n",
       "<style scoped>\n",
       "    .dataframe tbody tr th:only-of-type {\n",
       "        vertical-align: middle;\n",
       "    }\n",
       "\n",
       "    .dataframe tbody tr th {\n",
       "        vertical-align: top;\n",
       "    }\n",
       "\n",
       "    .dataframe thead th {\n",
       "        text-align: right;\n",
       "    }\n",
       "</style>\n",
       "<table border=\"1\" class=\"dataframe\">\n",
       "  <thead>\n",
       "    <tr style=\"text-align: right;\">\n",
       "      <th></th>\n",
       "      <th>Engine Position</th>\n",
       "      <th>Location Position</th>\n",
       "    </tr>\n",
       "    <tr>\n",
       "      <th>Name</th>\n",
       "      <th></th>\n",
       "      <th></th>\n",
       "    </tr>\n",
       "  </thead>\n",
       "  <tbody>\n",
       "    <tr>\n",
       "      <th>Logger1</th>\n",
       "      <td>Engine 1</td>\n",
       "      <td>IC Cleaner</td>\n",
       "    </tr>\n",
       "    <tr>\n",
       "      <th>Logger2</th>\n",
       "      <td>Engine 1</td>\n",
       "      <td>Toning Station</td>\n",
       "    </tr>\n",
       "    <tr>\n",
       "      <th>Logger3</th>\n",
       "      <td>Engine 1</td>\n",
       "      <td>Return Outlet</td>\n",
       "    </tr>\n",
       "    <tr>\n",
       "      <th>Logger4</th>\n",
       "      <td>Engine 1</td>\n",
       "      <td>BC Roller Return Side</td>\n",
       "    </tr>\n",
       "    <tr>\n",
       "      <th>Logger5</th>\n",
       "      <td>Engine 2</td>\n",
       "      <td>IC Cleaner</td>\n",
       "    </tr>\n",
       "    <tr>\n",
       "      <th>Logger6</th>\n",
       "      <td>Engine 2</td>\n",
       "      <td>Toning Station</td>\n",
       "    </tr>\n",
       "    <tr>\n",
       "      <th>Logger7</th>\n",
       "      <td>Engine 2</td>\n",
       "      <td>Return Outlet</td>\n",
       "    </tr>\n",
       "    <tr>\n",
       "      <th>Logger8</th>\n",
       "      <td>Engine 2</td>\n",
       "      <td>BC Roller Return Side</td>\n",
       "    </tr>\n",
       "    <tr>\n",
       "      <th>Logger9</th>\n",
       "      <td>Engine 3</td>\n",
       "      <td>IC Cleaner</td>\n",
       "    </tr>\n",
       "    <tr>\n",
       "      <th>Logger10</th>\n",
       "      <td>Engine 3</td>\n",
       "      <td>Toning Station</td>\n",
       "    </tr>\n",
       "    <tr>\n",
       "      <th>Logger11</th>\n",
       "      <td>Engine 3</td>\n",
       "      <td>Return Outlet</td>\n",
       "    </tr>\n",
       "    <tr>\n",
       "      <th>Logger12</th>\n",
       "      <td>Engine 3</td>\n",
       "      <td>BC Roller Return Side</td>\n",
       "    </tr>\n",
       "    <tr>\n",
       "      <th>Logger13</th>\n",
       "      <td>Engine 4</td>\n",
       "      <td>IC Cleaner</td>\n",
       "    </tr>\n",
       "    <tr>\n",
       "      <th>Logger14</th>\n",
       "      <td>Engine 4</td>\n",
       "      <td>Toning Station</td>\n",
       "    </tr>\n",
       "    <tr>\n",
       "      <th>Logger15</th>\n",
       "      <td>Engine 4</td>\n",
       "      <td>Return Outlet</td>\n",
       "    </tr>\n",
       "    <tr>\n",
       "      <th>Logger16</th>\n",
       "      <td>Engine 4</td>\n",
       "      <td>BC Roller Return Side</td>\n",
       "    </tr>\n",
       "    <tr>\n",
       "      <th>Logger17</th>\n",
       "      <td>EB Engine 4</td>\n",
       "      <td>EB Engine 4</td>\n",
       "    </tr>\n",
       "    <tr>\n",
       "      <th>Logger18</th>\n",
       "      <td>EB Engine 0</td>\n",
       "      <td>EB Engine 0</td>\n",
       "    </tr>\n",
       "    <tr>\n",
       "      <th>Logger19</th>\n",
       "      <td>Build Area</td>\n",
       "      <td>Build Area</td>\n",
       "    </tr>\n",
       "  </tbody>\n",
       "</table>\n",
       "</div>"
      ],
      "text/plain": [
       "         Engine Position      Location Position\n",
       "Name                                           \n",
       "Logger1         Engine 1             IC Cleaner\n",
       "Logger2         Engine 1         Toning Station\n",
       "Logger3         Engine 1          Return Outlet\n",
       "Logger4         Engine 1  BC Roller Return Side\n",
       "Logger5        Engine 2              IC Cleaner\n",
       "Logger6        Engine 2          Toning Station\n",
       "Logger7        Engine 2           Return Outlet\n",
       "Logger8        Engine 2   BC Roller Return Side\n",
       "Logger9         Engine 3             IC Cleaner\n",
       "Logger10        Engine 3         Toning Station\n",
       "Logger11        Engine 3          Return Outlet\n",
       "Logger12        Engine 3  BC Roller Return Side\n",
       "Logger13        Engine 4             IC Cleaner\n",
       "Logger14        Engine 4         Toning Station\n",
       "Logger15        Engine 4          Return Outlet\n",
       "Logger16        Engine 4  BC Roller Return Side\n",
       "Logger17     EB Engine 4            EB Engine 4\n",
       "Logger18     EB Engine 0            EB Engine 0\n",
       "Logger19      Build Area             Build Area"
      ]
     },
     "execution_count": 2,
     "metadata": {},
     "output_type": "execute_result"
    }
   ],
   "source": [
    "import pandas as pd\n",
    "LocationDescriptions = pd.read_csv('LocationDescriptions.csv', index_col = 'Name')\n",
    "LocationDescriptions"
   ]
  },
  {
   "cell_type": "code",
   "execution_count": 3,
   "metadata": {},
   "outputs": [
    {
     "data": {
      "text/plain": [
       "'Engine 2 '"
      ]
     },
     "execution_count": 3,
     "metadata": {},
     "output_type": "execute_result"
    }
   ],
   "source": [
    "LocationDescriptions.loc['Logger6', 'Engine Position']"
   ]
  },
  {
   "cell_type": "code",
   "execution_count": 19,
   "metadata": {},
   "outputs": [
    {
     "data": {
      "text/plain": [
       "1658833653.0"
      ]
     },
     "execution_count": 19,
     "metadata": {},
     "output_type": "execute_result"
    }
   ],
   "source": [
    "from pathlib import Path\n",
    "dataFolder = '26Jul'\n",
    "filePath = Path(r'C:\\Users\\TonyWitt\\OneDrive - Evolve\\Documents\\Flir Logs')\n",
    "filePath = filePath/dataFolder\n",
    "roomData = pd.read_csv(filePath/'RIC_ROOM_REFERENCE-TempRH--.csv', skiprows=range(1,140000), parse_dates=['Date/Time'])\n",
    "roomData['roomTemp'] = (roomData['Temperature (F)'] -32) * (5/9)\n",
    "roomData['epocTime'] = roomData['Date/Time'].astype('int64')//1e9\n",
    "roomData['epocTime'].iloc[100]"
   ]
  },
  {
   "cell_type": "code",
   "execution_count": 20,
   "metadata": {},
   "outputs": [
    {
     "data": {
      "text/plain": [
       "Date/Time          2022-07-26 05:07:33-06:00\n",
       "Temperature (F)                    69.196082\n",
       "Moisture (%)                       54.333252\n",
       "Battery (Volts)                     3.056549\n",
       "roomTemp                            20.66449\n",
       "epocTime                        1658833653.0\n",
       "Name: 100, dtype: object"
      ]
     },
     "execution_count": 20,
     "metadata": {},
     "output_type": "execute_result"
    }
   ],
   "source": [
    "roomData['roomTemp'] = (roomData['Temperature (F)'] -32) * (5/9)\n",
    "roomData['epocTime'] = roomData['Date/Time'].astype('int64')//1e9\n",
    "roomData.iloc[100]"
   ]
  },
  {
   "cell_type": "code",
   "execution_count": 24,
   "metadata": {},
   "outputs": [
    {
     "ename": "TypeError",
     "evalue": "unsupported operand type(s) for /: 'str' and 'str'",
     "output_type": "error",
     "traceback": [
      "\u001b[1;31m---------------------------------------------------------------------------\u001b[0m",
      "\u001b[1;31mTypeError\u001b[0m                                 Traceback (most recent call last)",
      "File \u001b[1;32mc:\\Users\\TonyWitt\\AppData\\Local\\Programs\\Python\\Python310\\lib\\site-packages\\pandas\\core\\ops\\array_ops.py:163\u001b[0m, in \u001b[0;36m_na_arithmetic_op\u001b[1;34m(left, right, op, is_cmp)\u001b[0m\n\u001b[0;32m    162\u001b[0m \u001b[39mtry\u001b[39;00m:\n\u001b[1;32m--> 163\u001b[0m     result \u001b[39m=\u001b[39m func(left, right)\n\u001b[0;32m    164\u001b[0m \u001b[39mexcept\u001b[39;00m \u001b[39mTypeError\u001b[39;00m:\n",
      "\u001b[1;31mTypeError\u001b[0m: unsupported operand type(s) for /: 'str' and 'str'",
      "\nDuring handling of the above exception, another exception occurred:\n",
      "\u001b[1;31mTypeError\u001b[0m                                 Traceback (most recent call last)",
      "\u001b[1;32mc:\\Users\\TonyWitt\\Documents\\plotting\\Jupyter.ipynb Cell 6\u001b[0m in \u001b[0;36m<cell line: 4>\u001b[1;34m()\u001b[0m\n\u001b[0;32m      <a href='vscode-notebook-cell:/c%3A/Users/TonyWitt/Documents/plotting/Jupyter.ipynb#ch0000005?line=1'>2</a>\u001b[0m jobsData \u001b[39m=\u001b[39m pd\u001b[39m.\u001b[39mread_csv(\u001b[39m'\u001b[39m\u001b[39mjobsData.csv\u001b[39m\u001b[39m'\u001b[39m)\n\u001b[0;32m      <a href='vscode-notebook-cell:/c%3A/Users/TonyWitt/Documents/plotting/Jupyter.ipynb#ch0000005?line=2'>3</a>\u001b[0m job \u001b[39m=\u001b[39m jobsData\u001b[39m.\u001b[39mloc[jobsData[\u001b[39m'\u001b[39m\u001b[39mDate\u001b[39m\u001b[39m'\u001b[39m] \u001b[39m==\u001b[39m \u001b[39m'\u001b[39m\u001b[39mJuly26\u001b[39m\u001b[39m'\u001b[39m, \u001b[39m'\u001b[39m\u001b[39mPath\u001b[39m\u001b[39m'\u001b[39m]\n\u001b[1;32m----> <a href='vscode-notebook-cell:/c%3A/Users/TonyWitt/Documents/plotting/Jupyter.ipynb#ch0000005?line=3'>4</a>\u001b[0m dataLocation \u001b[39m=\u001b[39m pd\u001b[39m.\u001b[39mread_csv(job\u001b[39m/\u001b[39;49m\u001b[39m'\u001b[39;49m\u001b[39msyncedData.csv\u001b[39;49m\u001b[39m'\u001b[39;49m)\n",
      "File \u001b[1;32mc:\\Users\\TonyWitt\\AppData\\Local\\Programs\\Python\\Python310\\lib\\site-packages\\pandas\\core\\ops\\common.py:70\u001b[0m, in \u001b[0;36m_unpack_zerodim_and_defer.<locals>.new_method\u001b[1;34m(self, other)\u001b[0m\n\u001b[0;32m     66\u001b[0m             \u001b[39mreturn\u001b[39;00m \u001b[39mNotImplemented\u001b[39m\n\u001b[0;32m     68\u001b[0m other \u001b[39m=\u001b[39m item_from_zerodim(other)\n\u001b[1;32m---> 70\u001b[0m \u001b[39mreturn\u001b[39;00m method(\u001b[39mself\u001b[39;49m, other)\n",
      "File \u001b[1;32mc:\\Users\\TonyWitt\\AppData\\Local\\Programs\\Python\\Python310\\lib\\site-packages\\pandas\\core\\arraylike.py:124\u001b[0m, in \u001b[0;36mOpsMixin.__truediv__\u001b[1;34m(self, other)\u001b[0m\n\u001b[0;32m    122\u001b[0m \u001b[39m@unpack_zerodim_and_defer\u001b[39m(\u001b[39m\"\u001b[39m\u001b[39m__truediv__\u001b[39m\u001b[39m\"\u001b[39m)\n\u001b[0;32m    123\u001b[0m \u001b[39mdef\u001b[39;00m \u001b[39m__truediv__\u001b[39m(\u001b[39mself\u001b[39m, other):\n\u001b[1;32m--> 124\u001b[0m     \u001b[39mreturn\u001b[39;00m \u001b[39mself\u001b[39;49m\u001b[39m.\u001b[39;49m_arith_method(other, operator\u001b[39m.\u001b[39;49mtruediv)\n",
      "File \u001b[1;32mc:\\Users\\TonyWitt\\AppData\\Local\\Programs\\Python\\Python310\\lib\\site-packages\\pandas\\core\\series.py:5639\u001b[0m, in \u001b[0;36mSeries._arith_method\u001b[1;34m(self, other, op)\u001b[0m\n\u001b[0;32m   5637\u001b[0m \u001b[39mdef\u001b[39;00m \u001b[39m_arith_method\u001b[39m(\u001b[39mself\u001b[39m, other, op):\n\u001b[0;32m   5638\u001b[0m     \u001b[39mself\u001b[39m, other \u001b[39m=\u001b[39m ops\u001b[39m.\u001b[39malign_method_SERIES(\u001b[39mself\u001b[39m, other)\n\u001b[1;32m-> 5639\u001b[0m     \u001b[39mreturn\u001b[39;00m base\u001b[39m.\u001b[39;49mIndexOpsMixin\u001b[39m.\u001b[39;49m_arith_method(\u001b[39mself\u001b[39;49m, other, op)\n",
      "File \u001b[1;32mc:\\Users\\TonyWitt\\AppData\\Local\\Programs\\Python\\Python310\\lib\\site-packages\\pandas\\core\\base.py:1295\u001b[0m, in \u001b[0;36mIndexOpsMixin._arith_method\u001b[1;34m(self, other, op)\u001b[0m\n\u001b[0;32m   1292\u001b[0m rvalues \u001b[39m=\u001b[39m ensure_wrapped_if_datetimelike(rvalues)\n\u001b[0;32m   1294\u001b[0m \u001b[39mwith\u001b[39;00m np\u001b[39m.\u001b[39merrstate(\u001b[39mall\u001b[39m\u001b[39m=\u001b[39m\u001b[39m\"\u001b[39m\u001b[39mignore\u001b[39m\u001b[39m\"\u001b[39m):\n\u001b[1;32m-> 1295\u001b[0m     result \u001b[39m=\u001b[39m ops\u001b[39m.\u001b[39;49marithmetic_op(lvalues, rvalues, op)\n\u001b[0;32m   1297\u001b[0m \u001b[39mreturn\u001b[39;00m \u001b[39mself\u001b[39m\u001b[39m.\u001b[39m_construct_result(result, name\u001b[39m=\u001b[39mres_name)\n",
      "File \u001b[1;32mc:\\Users\\TonyWitt\\AppData\\Local\\Programs\\Python\\Python310\\lib\\site-packages\\pandas\\core\\ops\\array_ops.py:222\u001b[0m, in \u001b[0;36marithmetic_op\u001b[1;34m(left, right, op)\u001b[0m\n\u001b[0;32m    217\u001b[0m \u001b[39melse\u001b[39;00m:\n\u001b[0;32m    218\u001b[0m     \u001b[39m# TODO we should handle EAs consistently and move this check before the if/else\u001b[39;00m\n\u001b[0;32m    219\u001b[0m     \u001b[39m# (https://github.com/pandas-dev/pandas/issues/41165)\u001b[39;00m\n\u001b[0;32m    220\u001b[0m     _bool_arith_check(op, left, right)\n\u001b[1;32m--> 222\u001b[0m     res_values \u001b[39m=\u001b[39m _na_arithmetic_op(left, right, op)\n\u001b[0;32m    224\u001b[0m \u001b[39mreturn\u001b[39;00m res_values\n",
      "File \u001b[1;32mc:\\Users\\TonyWitt\\AppData\\Local\\Programs\\Python\\Python310\\lib\\site-packages\\pandas\\core\\ops\\array_ops.py:170\u001b[0m, in \u001b[0;36m_na_arithmetic_op\u001b[1;34m(left, right, op, is_cmp)\u001b[0m\n\u001b[0;32m    164\u001b[0m \u001b[39mexcept\u001b[39;00m \u001b[39mTypeError\u001b[39;00m:\n\u001b[0;32m    165\u001b[0m     \u001b[39mif\u001b[39;00m \u001b[39mnot\u001b[39;00m is_cmp \u001b[39mand\u001b[39;00m (is_object_dtype(left\u001b[39m.\u001b[39mdtype) \u001b[39mor\u001b[39;00m is_object_dtype(right)):\n\u001b[0;32m    166\u001b[0m         \u001b[39m# For object dtype, fallback to a masked operation (only operating\u001b[39;00m\n\u001b[0;32m    167\u001b[0m         \u001b[39m#  on the non-missing values)\u001b[39;00m\n\u001b[0;32m    168\u001b[0m         \u001b[39m# Don't do this for comparisons, as that will handle complex numbers\u001b[39;00m\n\u001b[0;32m    169\u001b[0m         \u001b[39m#  incorrectly, see GH#32047\u001b[39;00m\n\u001b[1;32m--> 170\u001b[0m         result \u001b[39m=\u001b[39m _masked_arith_op(left, right, op)\n\u001b[0;32m    171\u001b[0m     \u001b[39melse\u001b[39;00m:\n\u001b[0;32m    172\u001b[0m         \u001b[39mraise\u001b[39;00m\n",
      "File \u001b[1;32mc:\\Users\\TonyWitt\\AppData\\Local\\Programs\\Python\\Python310\\lib\\site-packages\\pandas\\core\\ops\\array_ops.py:127\u001b[0m, in \u001b[0;36m_masked_arith_op\u001b[1;34m(x, y, op)\u001b[0m\n\u001b[0;32m    124\u001b[0m         mask \u001b[39m=\u001b[39m np\u001b[39m.\u001b[39mwhere(y \u001b[39m==\u001b[39m \u001b[39m1\u001b[39m, \u001b[39mFalse\u001b[39;00m, mask)\n\u001b[0;32m    126\u001b[0m     \u001b[39mif\u001b[39;00m mask\u001b[39m.\u001b[39many():\n\u001b[1;32m--> 127\u001b[0m         result[mask] \u001b[39m=\u001b[39m op(xrav[mask], y)\n\u001b[0;32m    129\u001b[0m np\u001b[39m.\u001b[39mputmask(result, \u001b[39m~\u001b[39mmask, np\u001b[39m.\u001b[39mnan)\n\u001b[0;32m    130\u001b[0m result \u001b[39m=\u001b[39m result\u001b[39m.\u001b[39mreshape(x\u001b[39m.\u001b[39mshape)  \u001b[39m# 2D compat\u001b[39;00m\n",
      "\u001b[1;31mTypeError\u001b[0m: unsupported operand type(s) for /: 'str' and 'str'"
     ]
    }
   ],
   "source": [
    "#use this for new path thing\n",
    "jobsData = pd.read_csv('jobsData.csv')\n",
    "job = Path(jobsData.loc[jobsData['Date'] == 'July26', 'Path'])\n",
    "dataLocation = pd.read_csv(job/'syncedData.csv')"
   ]
  },
  {
   "cell_type": "code",
   "execution_count": null,
   "metadata": {},
   "outputs": [],
   "source": []
  }
 ],
 "metadata": {
  "kernelspec": {
   "display_name": "Python 3.10.4 64-bit",
   "language": "python",
   "name": "python3"
  },
  "language_info": {
   "codemirror_mode": {
    "name": "ipython",
    "version": 3
   },
   "file_extension": ".py",
   "mimetype": "text/x-python",
   "name": "python",
   "nbconvert_exporter": "python",
   "pygments_lexer": "ipython3",
   "version": "3.10.4"
  },
  "orig_nbformat": 4,
  "vscode": {
   "interpreter": {
    "hash": "32725197dea7e07572ff9a8cf0e4f2bb2dd0bf01836703223fb6ad62c02444a1"
   }
  }
 },
 "nbformat": 4,
 "nbformat_minor": 2
}
