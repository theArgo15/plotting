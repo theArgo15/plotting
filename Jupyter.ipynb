{
 "cells": [
  {
   "cell_type": "markdown",
   "metadata": {},
   "source": []
  },
  {
   "cell_type": "code",
   "execution_count": 2,
   "metadata": {},
   "outputs": [
    {
     "data": {
      "text/html": [
       "<div>\n",
       "<style scoped>\n",
       "    .dataframe tbody tr th:only-of-type {\n",
       "        vertical-align: middle;\n",
       "    }\n",
       "\n",
       "    .dataframe tbody tr th {\n",
       "        vertical-align: top;\n",
       "    }\n",
       "\n",
       "    .dataframe thead th {\n",
       "        text-align: right;\n",
       "    }\n",
       "</style>\n",
       "<table border=\"1\" class=\"dataframe\">\n",
       "  <thead>\n",
       "    <tr style=\"text-align: right;\">\n",
       "      <th></th>\n",
       "      <th>Engine Position</th>\n",
       "      <th>Location Position</th>\n",
       "    </tr>\n",
       "    <tr>\n",
       "      <th>Name</th>\n",
       "      <th></th>\n",
       "      <th></th>\n",
       "    </tr>\n",
       "  </thead>\n",
       "  <tbody>\n",
       "    <tr>\n",
       "      <th>Logger1</th>\n",
       "      <td>Engine 1</td>\n",
       "      <td>IC Cleaner</td>\n",
       "    </tr>\n",
       "    <tr>\n",
       "      <th>Logger2</th>\n",
       "      <td>Engine 1</td>\n",
       "      <td>Toning Station</td>\n",
       "    </tr>\n",
       "    <tr>\n",
       "      <th>Logger3</th>\n",
       "      <td>Engine 1</td>\n",
       "      <td>Return Outlet</td>\n",
       "    </tr>\n",
       "    <tr>\n",
       "      <th>Logger4</th>\n",
       "      <td>Engine 1</td>\n",
       "      <td>BC Roller Return Side</td>\n",
       "    </tr>\n",
       "    <tr>\n",
       "      <th>Logger5</th>\n",
       "      <td>Engine 2</td>\n",
       "      <td>IC Cleaner</td>\n",
       "    </tr>\n",
       "    <tr>\n",
       "      <th>Logger6</th>\n",
       "      <td>Engine 2</td>\n",
       "      <td>Toning Station</td>\n",
       "    </tr>\n",
       "    <tr>\n",
       "      <th>Logger7</th>\n",
       "      <td>Engine 2</td>\n",
       "      <td>Return Outlet</td>\n",
       "    </tr>\n",
       "    <tr>\n",
       "      <th>Logger8</th>\n",
       "      <td>Engine 2</td>\n",
       "      <td>BC Roller Return Side</td>\n",
       "    </tr>\n",
       "    <tr>\n",
       "      <th>Logger9</th>\n",
       "      <td>Engine 3</td>\n",
       "      <td>IC Cleaner</td>\n",
       "    </tr>\n",
       "    <tr>\n",
       "      <th>Logger10</th>\n",
       "      <td>Engine 3</td>\n",
       "      <td>Toning Station</td>\n",
       "    </tr>\n",
       "    <tr>\n",
       "      <th>Logger11</th>\n",
       "      <td>Engine 3</td>\n",
       "      <td>Return Outlet</td>\n",
       "    </tr>\n",
       "    <tr>\n",
       "      <th>Logger12</th>\n",
       "      <td>Engine 3</td>\n",
       "      <td>BC Roller Return Side</td>\n",
       "    </tr>\n",
       "    <tr>\n",
       "      <th>Logger13</th>\n",
       "      <td>Engine 4</td>\n",
       "      <td>IC Cleaner</td>\n",
       "    </tr>\n",
       "    <tr>\n",
       "      <th>Logger14</th>\n",
       "      <td>Engine 4</td>\n",
       "      <td>Toning Station</td>\n",
       "    </tr>\n",
       "    <tr>\n",
       "      <th>Logger15</th>\n",
       "      <td>Engine 4</td>\n",
       "      <td>Return Outlet</td>\n",
       "    </tr>\n",
       "    <tr>\n",
       "      <th>Logger16</th>\n",
       "      <td>Engine 4</td>\n",
       "      <td>BC Roller Return Side</td>\n",
       "    </tr>\n",
       "    <tr>\n",
       "      <th>Logger17</th>\n",
       "      <td>EB Engine 4</td>\n",
       "      <td>EB Engine 4</td>\n",
       "    </tr>\n",
       "    <tr>\n",
       "      <th>Logger18</th>\n",
       "      <td>EB Engine 0</td>\n",
       "      <td>EB Engine 0</td>\n",
       "    </tr>\n",
       "    <tr>\n",
       "      <th>Logger19</th>\n",
       "      <td>Build Area</td>\n",
       "      <td>Build Area</td>\n",
       "    </tr>\n",
       "    <tr>\n",
       "      <th>EP</th>\n",
       "      <td>EP</td>\n",
       "      <td>EP</td>\n",
       "    </tr>\n",
       "    <tr>\n",
       "      <th>ECSReturn</th>\n",
       "      <td>ECSReturn</td>\n",
       "      <td>ECSReturn</td>\n",
       "    </tr>\n",
       "    <tr>\n",
       "      <th>ECSSupply</th>\n",
       "      <td>ECSSupply</td>\n",
       "      <td>ECSSupply</td>\n",
       "    </tr>\n",
       "    <tr>\n",
       "      <th>room</th>\n",
       "      <td>room</td>\n",
       "      <td>room</td>\n",
       "    </tr>\n",
       "  </tbody>\n",
       "</table>\n",
       "</div>"
      ],
      "text/plain": [
       "          Engine Position      Location Position\n",
       "Name                                            \n",
       "Logger1          Engine 1             IC Cleaner\n",
       "Logger2          Engine 1         Toning Station\n",
       "Logger3          Engine 1          Return Outlet\n",
       "Logger4          Engine 1  BC Roller Return Side\n",
       "Logger5         Engine 2              IC Cleaner\n",
       "Logger6         Engine 2          Toning Station\n",
       "Logger7         Engine 2           Return Outlet\n",
       "Logger8         Engine 2   BC Roller Return Side\n",
       "Logger9          Engine 3             IC Cleaner\n",
       "Logger10         Engine 3         Toning Station\n",
       "Logger11         Engine 3          Return Outlet\n",
       "Logger12         Engine 3  BC Roller Return Side\n",
       "Logger13         Engine 4             IC Cleaner\n",
       "Logger14         Engine 4         Toning Station\n",
       "Logger15         Engine 4          Return Outlet\n",
       "Logger16         Engine 4  BC Roller Return Side\n",
       "Logger17      EB Engine 4            EB Engine 4\n",
       "Logger18      EB Engine 0            EB Engine 0\n",
       "Logger19       Build Area             Build Area\n",
       "EP                     EP                     EP\n",
       "ECSReturn       ECSReturn              ECSReturn\n",
       "ECSSupply       ECSSupply              ECSSupply\n",
       "room                 room                   room"
      ]
     },
     "execution_count": 2,
     "metadata": {},
     "output_type": "execute_result"
    }
   ],
   "source": [
    "import pandas as pd\n",
    "LocationDescriptions = pd.read_csv('LocationDescriptions.csv', index_col = 'Name')\n",
    "LocationDescriptions"
   ]
  },
  {
   "cell_type": "code",
   "execution_count": 3,
   "metadata": {},
   "outputs": [
    {
     "data": {
      "text/plain": [
       "'Engine 2 '"
      ]
     },
     "execution_count": 3,
     "metadata": {},
     "output_type": "execute_result"
    }
   ],
   "source": [
    "LocationDescriptions.loc['Logger6', 'Engine Position']"
   ]
  },
  {
   "cell_type": "code",
   "execution_count": 4,
   "metadata": {},
   "outputs": [
    {
     "data": {
      "text/plain": [
       "1658833653.0"
      ]
     },
     "execution_count": 4,
     "metadata": {},
     "output_type": "execute_result"
    }
   ],
   "source": [
    "from pathlib import Path\n",
    "dataFolder = '26Jul'\n",
    "filePath = Path(r'C:\\Users\\TonyWitt\\OneDrive - Evolve\\Documents\\Flir Logs')\n",
    "filePath = filePath/dataFolder\n",
    "roomData = pd.read_csv(filePath/'RIC_ROOM_REFERENCE-TempRH--.csv', skiprows=range(1,140000), parse_dates=['Date/Time'])\n",
    "roomData['roomTemp'] = (roomData['Temperature (F)'] -32) * (5/9)\n",
    "roomData['epocTime'] = roomData['Date/Time'].astype('int64')//1e9\n",
    "roomData['epocTime'].iloc[100]"
   ]
  },
  {
   "cell_type": "code",
   "execution_count": 5,
   "metadata": {},
   "outputs": [
    {
     "data": {
      "text/plain": [
       "Date/Time          2022-07-26 05:07:33-06:00\n",
       "Temperature (F)                    69.196082\n",
       "Moisture (%)                       54.333252\n",
       "Battery (Volts)                     3.056549\n",
       "roomTemp                            20.66449\n",
       "epocTime                        1658833653.0\n",
       "Name: 100, dtype: object"
      ]
     },
     "execution_count": 5,
     "metadata": {},
     "output_type": "execute_result"
    }
   ],
   "source": [
    "roomData['roomTemp'] = (roomData['Temperature (F)'] -32) * (5/9)\n",
    "roomData['epocTime'] = roomData['Date/Time'].astype('int64')//1e9\n",
    "roomData.iloc[100]"
   ]
  },
  {
   "cell_type": "code",
   "execution_count": 6,
   "metadata": {},
   "outputs": [
    {
     "name": "stderr",
     "output_type": "stream",
     "text": [
      "C:\\Users\\TonyWitt\\AppData\\Local\\Temp\\ipykernel_46172\\3974202665.py:5: DtypeWarning: Columns (9,86) have mixed types. Specify dtype option on import or set low_memory=False.\n",
      "  dataLocation = pd.read_csv(job/'syncedData.csv')\n"
     ]
    }
   ],
   "source": [
    "#use this for new path thing\n",
    "jobsData = pd.read_csv('jobsData.csv', index_col='Date')\n",
    "job = jobsData.loc['July26', 'Path']\n",
    "job = Path(job)\n",
    "dataLocation = pd.read_csv(job/'syncedData.csv')"
   ]
  },
  {
   "cell_type": "code",
   "execution_count": 7,
   "metadata": {},
   "outputs": [
    {
     "name": "stderr",
     "output_type": "stream",
     "text": [
      "C:\\Users\\TonyWitt\\AppData\\Local\\Temp\\ipykernel_46172\\92685600.py:2: DtypeWarning: Columns (9,86) have mixed types. Specify dtype option on import or set low_memory=False.\n",
      "  syncedData = pd.read_csv('syncedData.csv')\n"
     ]
    }
   ],
   "source": [
    "# trying to get only the job data. Should be cleaner\n",
    "syncedData = pd.read_csv('syncedData.csv')\n",
    "squareData = syncedData[['Time','EPTemp', 'EPHumidity','ECSReturnTemp', 'ECSReturnHumidity','ECSSupplyTemp','ECSSupplyHumidity']]\n",
    "#get rid of extra space\n",
    "squareData = squareData[squareData['Time'].notnull()]\n",
    "jobEndTime = squareData['Time'].max()\n",
    "#create filter to get only job data for loggers\n",
    "#need loop for all loggers\n",
    "for i in range(19):\n",
    "    #create filter to get only job data for loggers\n",
    "    timeFilter = (syncedData[f'Logger{i+1}Time'] > 0) & (syncedData[f'Logger{i+1}Time'] < jobEndTime)\n",
    "    #apply filter to the 3 columns assc with the logger\n",
    "    filteredLoggerData = syncedData.loc[timeFilter,[f'Logger{i+1}Time',f'Logger{i+1}Temp',f'Logger{i+1}Humidity']].reset_index()\n",
    "    squareData = pd.concat([squareData, filteredLoggerData],axis=1)\n",
    "#new filter for room data\n",
    "timeFilter = (syncedData['roomTime'] > 0) & (syncedData['roomTime'] < jobEndTime)\n",
    "#apply filter to the 3 columns assc with room reference\n",
    "filteredRoomData = syncedData.loc[timeFilter,['roomTime','roomTemp','roomHumidity']].reset_index()\n",
    "squareData = pd.concat([squareData, filteredRoomData],axis=1)\n",
    "squareData.to_csv('squareData.csv')"
   ]
  },
  {
   "cell_type": "code",
   "execution_count": 31,
   "metadata": {},
   "outputs": [],
   "source": [
    "#new data with only max temps per job\n",
    "jobsData = pd.read_csv('jobsData.csv', index_col='Job')\n",
    "#input\n",
    "jobInput = 1659450636\n",
    "\n",
    "job = jobsData.loc[jobInput, 'Path']\n",
    "filePath = Path(job)\n",
    "squareData = pd.read_csv(filePath/'squareData.csv')\n",
    "concatDataByJob = pd.read_csv('concatDataByJob.csv')\n",
    "\n",
    "columnlist = []\n",
    "loggerNameList =[]\n",
    "loggerAttributeList = []\n",
    "for column in squareData.columns:\n",
    "    if 'Temp' in column or 'Humidity' in column:\n",
    "        columnlist.append(column)\n",
    "temporaryMax = squareData[columnlist].max()\n",
    "temporaryAverage = squareData[columnlist].mean()\n",
    "for logger in temporaryMax.index:\n",
    "    if 'Temp' in logger:\n",
    "        loggerNameList.append(logger.split('Temp')[0])\n",
    "        loggerAttributeList.append('Temp')\n",
    "    elif 'Humidity' in logger:\n",
    "        loggerNameList.append(logger.split(('Humidity'))[0])\n",
    "        loggerAttributeList.append('Humidity')\n",
    "\n",
    "dataByJob = pd.DataFrame(\n",
    "    {'LoggerName':loggerNameList,\n",
    "    'AttributeType' : loggerAttributeList,\n",
    "    'AverageValue': temporaryAverage.values,\n",
    "    'MaxValue': temporaryMax.values,\n",
    "    'Job':[jobInput]*len(loggerAttributeList)})\n",
    "\n",
    "concatDataByJob = pd.concat([concatDataByJob,dataByJob])\n",
    "concatDataByJob.to_csv('concatDataByJob.csv',index=False)"
   ]
  },
  {
   "cell_type": "code",
   "execution_count": 9,
   "metadata": {},
   "outputs": [
    {
     "data": {
      "text/plain": [
       "<AxesSubplot:xlabel='LoggerName'>"
      ]
     },
     "execution_count": 9,
     "metadata": {},
     "output_type": "execute_result"
    },
    {
     "data": {
      "image/png": "[encoded data removed]",
      "text/plain": [
       "<Figure size 432x288 with 1 Axes>"
      ]
     },
     "metadata": {
      "needs_background": "light"
     },
     "output_type": "display_data"
    }
   ],
   "source": [
    "plotDataByJob= dataByJob.loc[(dataByJob['AttributeType'] == 'Temp')]\n",
    "plotDataByJob.plot(x='LoggerName',y='MaxValue',kind = 'bar')"
   ]
  },
  {
   "cell_type": "code",
   "execution_count": 11,
   "metadata": {},
   "outputs": [
    {
     "data": {
      "text/plain": [
       "<BarContainer object of 1 artists>"
      ]
     },
     "execution_count": 11,
     "metadata": {},
     "output_type": "execute_result"
    },
    {
     "data": {
      "image/png": "[encoded data removed]",
      "text/plain": [
       "<Figure size 432x288 with 6 Axes>"
      ]
     },
     "metadata": {
      "needs_background": "light"
     },
     "output_type": "display_data"
    }
   ],
   "source": [
    "import matplotlib.pyplot as plt\n",
    "import referenceVariable\n",
    "df = plotDataByJob\n",
    "fig, axs = plt.subplots(3,2, sharey=True)\n",
    "filt = df['LoggerName']=='Logger1'\n",
    "filt\n",
    "axs[0, 0].bar('LoggerName','MaxValue', data=df[filt], label='Control')\n",
    "axs[0, 1].bar('LoggerName','MaxValue', data=df[df['LoggerName']=='Logger2'],label ='Control')"
   ]
  },
  {
   "cell_type": "code",
   "execution_count": 33,
   "metadata": {},
   "outputs": [
    {
     "name": "stdout",
     "output_type": "stream",
     "text": [
      "C:\\Users\\TonyWitt\\OneDrive - Evolve\\Documents\\Flir Logs\\30Jun\n",
      "C:\\Users\\TonyWitt\\OneDrive - Evolve\\Documents\\Flir Logs\\06Jul07Jul\n",
      "C:\\Users\\TonyWitt\\OneDrive - Evolve\\Documents\\Flir Logs\\12Jul\n",
      "C:\\Users\\TonyWitt\\OneDrive - Evolve\\Documents\\Flir Logs\\13Jul\n",
      "C:\\Users\\TonyWitt\\OneDrive - Evolve\\Documents\\Flir Logs\\26Jul\n",
      "C:\\Users\\TonyWitt\\OneDrive - Evolve\\Documents\\Flir Logs\\29Jul\n"
     ]
    }
   ],
   "source": [
    "jobsData = pd.read_csv('jobsData.csv', index_col='Job')\n",
    "\n",
    "for row in jobsData.index:\n",
    "    print(jobsData.loc[row,'Path'])"
   ]
  }
 ],
 "metadata": {
  "kernelspec": {
   "display_name": "Python 3.10.4 64-bit",
   "language": "python",
   "name": "python3"
  },
  "language_info": {
   "codemirror_mode": {
    "name": "ipython",
    "version": 3
   },
   "file_extension": ".py",
   "mimetype": "text/x-python",
   "name": "python",
   "nbconvert_exporter": "python",
   "pygments_lexer": "ipython3",
   "version": "3.10.4"
  },
  "orig_nbformat": 4,
  "vscode": {
   "interpreter": {
    "hash": "32725197dea7e07572ff9a8cf0e4f2bb2dd0bf01836703223fb6ad62c02444a1"
   }
  }
 },
 "nbformat": 4,
 "nbformat_minor": 2
}
